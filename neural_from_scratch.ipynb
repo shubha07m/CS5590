{
  "nbformat": 4,
  "nbformat_minor": 0,
  "metadata": {
    "colab": {
      "provenance": [],
      "authorship_tag": "ABX9TyMxsvJfitVUoMetVzBJ1Tbz",
      "include_colab_link": true
    },
    "kernelspec": {
      "name": "python3",
      "display_name": "Python 3"
    },
    "language_info": {
      "name": "python"
    }
  },
  "cells": [
    {
      "cell_type": "markdown",
      "metadata": {
        "id": "view-in-github",
        "colab_type": "text"
      },
      "source": [
        "<a href=\"https://colab.research.google.com/github/shubha07m/Deep-learning-using-Python-CS5590/blob/master/neural_from_scratch.ipynb\" target=\"_parent\"><img src=\"https://colab.research.google.com/assets/colab-badge.svg\" alt=\"Open In Colab\"/></a>"
      ]
    },
    {
      "cell_type": "code",
      "execution_count": 7,
      "metadata": {
        "id": "xjd-Rd8XAQ1L"
      },
      "outputs": [],
      "source": [
        "import numpy as np\n"
      ]
    },
    {
      "cell_type": "markdown",
      "source": [
        "**Simple numpy based neural layer implementation**"
      ],
      "metadata": {
        "id": "pOEyNZK_FtqP"
      }
    },
    {
      "cell_type": "code",
      "source": [
        "# (3 inputs) Input and First hidden layer #\n",
        "input = np.random.randint(1,10,3)\n",
        "\n",
        "weights1 = np.random.random((4,3))\n",
        "bias1 = np.random.randint(1,10,4)\n",
        "output1 = np.dot(input,weights1.T) + bias1\n",
        "\n",
        "print(input.shape,weights1.shape, bias1.shape,output1.shape)\n",
        "print(output1)"
      ],
      "metadata": {
        "colab": {
          "base_uri": "https://localhost:8080/"
        },
        "id": "O8hNiBpVAW1E",
        "outputId": "f0f64ebb-8398-4a19-a0b2-d0c47ea0f290"
      },
      "execution_count": 8,
      "outputs": [
        {
          "output_type": "stream",
          "name": "stdout",
          "text": [
            "(3,) (4, 3) (4,) (4,)\n",
            "[16.7130676  10.6537395   6.70299148 10.95292742]\n"
          ]
        }
      ]
    },
    {
      "cell_type": "code",
      "source": [
        "# Second hidden layer #\n",
        "input = output1\n",
        "\n",
        "weights2 = np.random.random((3,4))\n",
        "bias2 = np.random.randint(1,10,3)\n",
        "output2 = np.dot(input,weights2.T) + bias2\n",
        "\n",
        "print(input.shape,weights2.shape, bias2.shape,output2.shape)\n",
        "print(output2)"
      ],
      "metadata": {
        "colab": {
          "base_uri": "https://localhost:8080/"
        },
        "id": "0oxpnzmbDWvh",
        "outputId": "54b1aafb-ef5b-41d3-8eb4-d1b648649b4c"
      },
      "execution_count": 9,
      "outputs": [
        {
          "output_type": "stream",
          "name": "stdout",
          "text": [
            "(4,) (3, 4) (3,) (3,)\n",
            "[24.32749329 30.38837573 43.09490036]\n"
          ]
        }
      ]
    },
    {
      "cell_type": "code",
      "source": [
        "# Third hidden layer and output(two neuron) #\n",
        "input = output2\n",
        "\n",
        "weights3 = np.random.random((2,3))\n",
        "bias3 = np.random.randint(1,10,2)\n",
        "output3 = np.dot(input,weights3.T) + bias3\n",
        "\n",
        "print(input.shape,weights3.shape, bias3.shape,output3.shape)\n",
        "print(output3)"
      ],
      "metadata": {
        "colab": {
          "base_uri": "https://localhost:8080/"
        },
        "id": "ckBVDb2CD8ZC",
        "outputId": "6a0b8314-7629-4915-f6a5-e880b30fd546"
      },
      "execution_count": 10,
      "outputs": [
        {
          "output_type": "stream",
          "name": "stdout",
          "text": [
            "(3,) (2, 3) (2,) (2,)\n",
            "[66.19565934 50.48285451]\n"
          ]
        }
      ]
    },
    {
      "cell_type": "code",
      "source": [
        "# ReLu activation based class selection #\n",
        "np.max(output3,0)"
      ],
      "metadata": {
        "colab": {
          "base_uri": "https://localhost:8080/"
        },
        "id": "n8jwAIX9EvnH",
        "outputId": "5bf27775-3900-4b90-facc-da396789dd98"
      },
      "execution_count": 44,
      "outputs": [
        {
          "output_type": "execute_result",
          "data": {
            "text/plain": [
              "27.11102172292486"
            ]
          },
          "metadata": {},
          "execution_count": 44
        }
      ]
    },
    {
      "cell_type": "markdown",
      "source": [
        "**Class based neural layer implementation**\n",
        "\n",
        "1.   Three layers\n",
        "2.   Leaky ReLu activation\n",
        "\n"
      ],
      "metadata": {
        "id": "nXw6p7GhGPGG"
      }
    },
    {
      "cell_type": "code",
      "source": [
        "class Layer:\n",
        "\n",
        "  def __init__(self,n_input, n_neuron):\n",
        "    self.weights = np.random.random((n_neuron, n_input))\n",
        "    self.biases = np.random.randint(0,10,n_neuron)\n",
        "\n",
        "  def forward_pass(self,inputs):\n",
        "    self.output = np.dot(inputs,self.weights.T) + self.biases\n",
        "    return self.output\n",
        "\n",
        "# First layer: 3 input, 4 output\n",
        "Layer1 = Layer(3,4)\n",
        "output1 = Layer1.forward_pass([1,2,3])\n",
        "print(output1)\n",
        "print(output1.shape)\n",
        "\n",
        "# Second layer: 4 input, 3 output\n",
        "Layer2 = Layer(4,3)\n",
        "output2 = Layer2.forward_pass(output1)\n",
        "print(output2)\n",
        "print(output2.shape)\n",
        "\n",
        "# Third/final layer: 3 input, 1 output\n",
        "Layer3 = Layer(3,1)\n",
        "output3 = Layer3.forward_pass(output2)\n",
        "print(output3)\n",
        "print(output3.shape)\n",
        "\n",
        "# Leaky ReLu\n",
        "print(max(output3,40))"
      ],
      "metadata": {
        "id": "I8Nb_7fmGTdr",
        "colab": {
          "base_uri": "https://localhost:8080/"
        },
        "outputId": "81802f7f-e50b-4434-fd3f-ab1c736bfc00"
      },
      "execution_count": 43,
      "outputs": [
        {
          "output_type": "stream",
          "name": "stdout",
          "text": [
            "[10.38806936  6.12709075  8.13045249  4.07073969]\n",
            "(4,)\n",
            "[20.44521694 20.35329772 21.38738377]\n",
            "(3,)\n",
            "[27.11102172]\n",
            "(1,)\n",
            "40\n"
          ]
        }
      ]
    },
    {
      "cell_type": "code",
      "source": [],
      "metadata": {
        "id": "fpi-ypSdJ5qr"
      },
      "execution_count": null,
      "outputs": []
    }
  ]
}